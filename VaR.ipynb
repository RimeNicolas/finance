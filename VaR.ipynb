{
 "cells": [
  {
   "cell_type": "code",
   "execution_count": 1,
   "metadata": {},
   "outputs": [],
   "source": [
    "import mod1\n",
    "import importlib\n",
    "importlib.reload(mod1)\n",
    "\n",
    "import numpy as np\n",
    "import matplotlib.pyplot as plt\n",
    "\n",
    "from scipy.stats import t\n",
    "from scipy.stats import norm"
   ]
  },
  {
   "cell_type": "code",
   "execution_count": 2,
   "metadata": {},
   "outputs": [],
   "source": [
    "list_name_tickers = [\n",
    "    'MSFT',\n",
    "    'AAPL',\n",
    "    'FB',\n",
    "    'AMZN',\n",
    "    'NDAQ',\n",
    "    'SPY'\n",
    "]\n",
    "list_name_tickers_pf = [\n",
    "    'MSFT',\n",
    "    'AAPL',\n",
    "    'FB'\n",
    "]\n",
    "nb_days = 252\n",
    "period = '252d'\n",
    "df_stocks_prices = mod1.create_df_prices(list_name_tickers, period=period, cat='Open')"
   ]
  },
  {
   "cell_type": "code",
   "execution_count": 3,
   "metadata": {},
   "outputs": [],
   "source": [
    "df_returns = df_stocks_prices.pct_change()[1:]\n",
    "df_pf = df_stocks_prices[list_name_tickers_pf]\n",
    "df_pf_returns = df_pf.pct_change()[1:]\n",
    "mean_returns = np.array(df_returns.mean())\n",
    "cov_returns = np.array(df_returns.cov())\n",
    "rf_rate = 0.0178\n",
    "market_returns = df_returns['SPY']\n",
    "\n",
    "weights = [0.333, 0.333, 0.333]\n",
    "daily_returns = mod1.pf_daily_returns(weights, df_pf_returns, nb_days)"
   ]
  },
  {
   "cell_type": "code",
   "execution_count": 4,
   "metadata": {},
   "outputs": [
    {
     "name": "stdout",
     "output_type": "stream",
     "text": [
      "VaR normal : 0.0361\n",
      "VaR t      : 0.0340\n"
     ]
    },
    {
     "data": {
      "image/png": "[encoded data removed]",
      "text/plain": [
       "<Figure size 432x288 with 1 Axes>"
      ]
     },
     "metadata": {
      "needs_background": "light"
     },
     "output_type": "display_data"
    }
   ],
   "source": [
    "def compute_var(returns_sorted, alpha, type_dist='normal'):\n",
    "    data = returns_sorted\n",
    "    if type_dist == 'normal':\n",
    "        mu, std = norm.fit(data)\n",
    "        return norm.ppf(alpha) * std + mu\n",
    "    elif type_dist == 't':\n",
    "        df, loc, scale = t.fit(data)\n",
    "        return t.ppf(alpha, df) * scale + loc\n",
    "    else:\n",
    "        raise Exception('not possible to fit distribution ' + type_dist) \n",
    "    \n",
    "\n",
    "def plot_returns(returns):\n",
    "    data = sorted(returns)\n",
    "    params_t = t.fit(data)\n",
    "    params_n = norm.fit(data)\n",
    "    x = np.linspace(data[0], data[-1], 100)\n",
    "    plt.figure(1)\n",
    "    plt.hist(data, bins=50)\n",
    "    plt.plot(x, t.pdf(x, params_t[0], params_t[1], params_t[2]), label='t')\n",
    "    plt.plot(x, norm.pdf(x, params_n[0], params_n[1]), label='n')\n",
    "    plt.legend()\n",
    "    plt.xlabel('return')\n",
    "    plt.show()\n",
    "\n",
    "print('VaR normal : {:.4f}'.format(-compute_var(sorted(df_pf_returns['MSFT']), 0.05)))\n",
    "print('VaR t      : {:.4f}'.format(-compute_var(sorted(df_pf_returns['MSFT']), 0.05, 't')))\n",
    "plot_returns(df_pf_returns['MSFT'])"
   ]
  },
  {
   "cell_type": "code",
   "execution_count": null,
   "metadata": {},
   "outputs": [],
   "source": []
  }
 ],
 "metadata": {
  "kernelspec": {
   "display_name": "Python 3",
   "language": "python",
   "name": "python3"
  },
  "language_info": {
   "codemirror_mode": {
    "name": "ipython",
    "version": 3
   },
   "file_extension": ".py",
   "mimetype": "text/x-python",
   "name": "python",
   "nbconvert_exporter": "python",
   "pygments_lexer": "ipython3",
   "version": "3.6.9"
  }
 },
 "nbformat": 4,
 "nbformat_minor": 4
}
